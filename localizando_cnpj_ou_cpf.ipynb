{
  "nbformat": 4,
  "nbformat_minor": 0,
  "metadata": {
    "colab": {
      "name": "localizando_cnpj_ou_cpf.ipynb",
      "provenance": [],
      "authorship_tag": "ABX9TyPfKFb2aAlAqqsdk6O7zgps"
    },
    "kernelspec": {
      "name": "python3",
      "display_name": "Python 3"
    },
    "language_info": {
      "name": "python"
    }
  },
  "cells": [
    {
      "cell_type": "code",
      "metadata": {
        "id": "6AIotfUe_hGb"
      },
      "source": [
        "import re"
      ],
      "execution_count": 19,
      "outputs": []
    },
    {
      "cell_type": "code",
      "metadata": {
        "id": "CciJTbaS_xiH"
      },
      "source": [
        "# Definindo padrão para buscar CNPJ ou CPF\n",
        "\n",
        "padrao = '([0-9]{2}[\\.]?[0-9]{3}[\\.]?[0-9]{3}[\\/]?[0-9]{4}[\\-]?[0-9]{2}) | ([0-9]{3}[\\.]?[0-9]{3}[\\.]?[0-9]{3}[\\-]?[0-9]{2})'\n",
        "\n",
        "\n",
        "# [0-9]{2} = Faixa de caracteres: 0 a 9, quantidade: 2 caracteres;\n",
        "# [0-9]{3} = Faixa de caracteres: 0 a 9, quantidade: 3 caracteres;\n",
        "# [0-9]{4} = Faixa de caracteres: 0 a 9, quantidade: 4 caracteres;\n",
        "# [\\.]? = Um ponto, opcional. Foi usado \\ no ponto, pois ele sozinho é caractere especial;\n",
        "# [-]? = Um traço, opcional (se acrescentar outros caracteres, comece pelo - sempre);\n",
        "# [\\/]? = Uma barra, opcional. Tambem \"escapada\" com \\;\n",
        "# (grupo1)|(grupo2) Usando o OU lógico. Se um dos grupos validar, a expressão é válida."
      ],
      "execution_count": 36,
      "outputs": []
    },
    {
      "cell_type": "code",
      "metadata": {
        "colab": {
          "base_uri": "https://localhost:8080/"
        },
        "id": "Wca29w9WCiOV",
        "outputId": "862dc690-8b41-4a76-f140-b8e6d8b192f2"
      },
      "source": [
        "texto = '''\n",
        "Nome: Marcos\n",
        "Idade: 27\n",
        "CPF: 094.342.245-23\n",
        "\n",
        "Nome: joão\n",
        "Idade: 27\n",
        "CPF: 154.331.731-03\n",
        "\n",
        "Nome: Maria\n",
        "Idade: 23\n",
        "CNPJ: 13.111.111/0001-11\n",
        "'''\n",
        "\n",
        "re.findall(padrao, texto)"
      ],
      "execution_count": 37,
      "outputs": [
        {
          "output_type": "execute_result",
          "data": {
            "text/plain": [
              "[('', '094.342.245-23'), ('', '154.331.731-03')]"
            ]
          },
          "metadata": {
            "tags": []
          },
          "execution_count": 37
        }
      ]
    }
  ]
}