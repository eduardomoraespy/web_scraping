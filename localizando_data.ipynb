{
  "nbformat": 4,
  "nbformat_minor": 0,
  "metadata": {
    "colab": {
      "name": "localizando_data.ipynb",
      "provenance": [],
      "authorship_tag": "ABX9TyPR20TrcKg9AumP8cl9B7SA"
    },
    "kernelspec": {
      "name": "python3",
      "display_name": "Python 3"
    },
    "language_info": {
      "name": "python"
    }
  },
  "cells": [
    {
      "cell_type": "code",
      "metadata": {
        "id": "tqKypuS9KHnx"
      },
      "source": [
        "import re"
      ],
      "execution_count": null,
      "outputs": []
    },
    {
      "cell_type": "code",
      "metadata": {
        "id": "Dr-UYTXvM7so"
      },
      "source": [
        "padrao = '\\d{2}/\\d{2}/\\d{4}'\n",
        "\n",
        "# \\d{x} – Dois/Quatro números\n",
        "# / - Barra (literal)"
      ],
      "execution_count": null,
      "outputs": []
    },
    {
      "cell_type": "code",
      "metadata": {
        "colab": {
          "base_uri": "https://localhost:8080/"
        },
        "id": "zR6oXolzNJjD",
        "outputId": "499a648e-8c08-4e77-8cc3-64b45da665d9"
      },
      "source": [
        "texto = '''\n",
        "\n",
        "Nome: Fernando\n",
        "Nascimento: 18/09/1993\n",
        "Nacionalidade: Brasileiro\n",
        "\n",
        "Nome: Juliana\n",
        "Nascimento: 15/03/1987\n",
        "Nacionalidade: Brasileiro\n",
        "\n",
        "'''\n",
        "\n",
        "re.findall(padrao, texto)"
      ],
      "execution_count": null,
      "outputs": [
        {
          "output_type": "execute_result",
          "data": {
            "text/plain": [
              "['18/09/1993', '15/03/1987']"
            ]
          },
          "metadata": {
            "tags": []
          },
          "execution_count": 4
        }
      ]
    }
  ]
}