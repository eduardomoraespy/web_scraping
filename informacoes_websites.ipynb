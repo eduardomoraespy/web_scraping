{
  "nbformat": 4,
  "nbformat_minor": 0,
  "metadata": {
    "colab": {
      "name": "Untitled12.ipynb",
      "provenance": [],
      "authorship_tag": "ABX9TyPbIf+gsCRsJ98c7BbUHGp/",
      "include_colab_link": true
    },
    "kernelspec": {
      "name": "python3",
      "display_name": "Python 3"
    },
    "language_info": {
      "name": "python"
    }
  },
  "cells": [
    {
      "cell_type": "markdown",
      "metadata": {
        "id": "view-in-github",
        "colab_type": "text"
      },
      "source": [
        "<a href=\"https://colab.research.google.com/github/eduardomoraespy/web_scraping/blob/main/informacoes_websites.ipynb\" target=\"_parent\"><img src=\"https://colab.research.google.com/assets/colab-badge.svg\" alt=\"Open In Colab\"/></a>"
      ]
    },
    {
      "cell_type": "markdown",
      "metadata": {
        "id": "lT9m0V8oGwU8"
      },
      "source": [
        "## Identificando quais tecnologias são usads nos Websites com o módulo builtwith"
      ]
    },
    {
      "cell_type": "markdown",
      "metadata": {
        "id": "veXh3rmLOfhD"
      },
      "source": [
        "<p>\n",
        "Saber as tecnologias, linguagens, frameworks etc de um Website é fundamental para que seja feita o rastreamento de informações. O módulo builtwith auxilia para descobrir essas informações \n",
        "</p>\n",
        "\n",
        "<p>\n",
        "Em sites que tem seus conteudos no arquivo HTML é mais fácil de retirar informações do que em sites que usam frameworks, com isso o processo de rastreio de informação são mais complexos. \n",
        "</p>\n",
        "\n",
        "<a href=\"https://pypi.org/project/builtwith/#description\"> Versão/instalção/exemplos </a>\n"
      ]
    },
    {
      "cell_type": "code",
      "metadata": {
        "id": "nNXfUo-sGvkg"
      },
      "source": [
        "#!pip install builtwith"
      ],
      "execution_count": null,
      "outputs": []
    },
    {
      "cell_type": "code",
      "metadata": {
        "colab": {
          "base_uri": "https://localhost:8080/"
        },
        "id": "ISC960EWI8_1",
        "outputId": "808cdb6f-b7e8-4ae6-face-888aba713eb2"
      },
      "source": [
        "import builtwith\n",
        "\n",
        "dir(builtwith)"
      ],
      "execution_count": 2,
      "outputs": [
        {
          "output_type": "execute_result",
          "data": {
            "text/plain": [
              "['__builtins__',\n",
              " '__cached__',\n",
              " '__doc__',\n",
              " '__file__',\n",
              " '__loader__',\n",
              " '__name__',\n",
              " '__package__',\n",
              " '__path__',\n",
              " '__spec__',\n",
              " '__warningregistry__',\n",
              " 'add_app',\n",
              " 'builtwith',\n",
              " 'contains',\n",
              " 'contains_dict',\n",
              " 'data',\n",
              " 'get_categories',\n",
              " 'json',\n",
              " 'load_apps',\n",
              " 'os',\n",
              " 'parse',\n",
              " 're',\n",
              " 'six',\n",
              " 'sys',\n",
              " 'urllib2']"
            ]
          },
          "metadata": {
            "tags": []
          },
          "execution_count": 2
        }
      ]
    },
    {
      "cell_type": "code",
      "metadata": {
        "colab": {
          "base_uri": "https://localhost:8080/"
        },
        "id": "BR52Qan8LMPG",
        "outputId": "17cf26f6-30bd-44db-f4fa-24ac70fa7839"
      },
      "source": [
        "# Método parse para ver informações do site // builtwith.parse('url')\n",
        "\n",
        "builtwith.parse('http://wordpress.com')"
      ],
      "execution_count": 5,
      "outputs": [
        {
          "output_type": "execute_result",
          "data": {
            "text/plain": [
              "{'blogs': ['PHP', 'WordPress'],\n",
              " 'cms': ['WordPress'],\n",
              " 'ecommerce': ['WooCommerce'],\n",
              " 'font-scripts': ['Google Font API'],\n",
              " 'programming-languages': ['PHP'],\n",
              " 'web-servers': ['Nginx']}"
            ]
          },
          "metadata": {
            "tags": []
          },
          "execution_count": 5
        }
      ]
    },
    {
      "cell_type": "code",
      "metadata": {
        "id": "HuDdP8deL5Gr"
      },
      "source": [
        ""
      ],
      "execution_count": null,
      "outputs": []
    }
  ]
}