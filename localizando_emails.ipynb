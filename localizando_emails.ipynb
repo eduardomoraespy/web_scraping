{
  "nbformat": 4,
  "nbformat_minor": 0,
  "metadata": {
    "colab": {
      "name": "localizando_emails.ipynb",
      "provenance": [],
      "authorship_tag": "ABX9TyMpGJQ2JqQr+j9QQBsCGgWR"
    },
    "kernelspec": {
      "name": "python3",
      "display_name": "Python 3"
    },
    "language_info": {
      "name": "python"
    }
  },
  "cells": [
    {
      "cell_type": "code",
      "metadata": {
        "id": "b7VrWMoLHWSW"
      },
      "source": [
        "import re"
      ],
      "execution_count": null,
      "outputs": []
    },
    {
      "cell_type": "code",
      "metadata": {
        "id": "Ap4iJBhFHnSA"
      },
      "source": [
        "padrao = '[\\w.-]+@[\\w.-]+'\n",
        "\n",
        "# \\w  Caractere alfanumérico ou sublinhado [a-zA-Z0-9_]\n",
        "# .  Considera o \".\". Devido ao ponto, foi encontrado\n",
        "# \"evaldo.wolkers@algumacoisa.com.br\", se não permitisse o ponto, seria\n",
        "# retornado 'wolkers@algumacoisa.com.br'.\n",
        "# -  Considera o \"-\". Devido ao hífen, foi encontrado \"evaldowolkers@algo.com.br\", se não permitisse o hífen, seria retornado\n",
        "# 'wolkers@algo.com.br'.\n",
        "# +  Uma ou mais ocorrências da expressão anterior [\\w.-]\n",
        "# @ Considera um caractere arroba."
      ],
      "execution_count": null,
      "outputs": []
    },
    {
      "cell_type": "code",
      "metadata": {
        "colab": {
          "base_uri": "https://localhost:8080/"
        },
        "id": "Z0YKpzU4I8v8",
        "outputId": "7dc886bf-07a8-438c-f65d-88b008fd9f75"
      },
      "source": [
        "texto = '''\n",
        "Nome: Julio\n",
        "telefone: (99) 99999-9999\n",
        "e-mail: julio_34@gmail.com\n",
        "\n",
        "Nome: Leticia\n",
        "telefone: (99) 99999-9999\n",
        "e-mail: le_ti_cia@hotmail.com\n",
        "\n",
        "Nome: Carlos\n",
        "telefone: (99) 99999-9999\n",
        "e-mail: contato@carlos.com.br\n",
        "'''\n",
        "\n",
        "re.findall(padrao, texto)"
      ],
      "execution_count": null,
      "outputs": [
        {
          "output_type": "execute_result",
          "data": {
            "text/plain": [
              "['julio_34@gmail.com', 'le_ti_cia@hotmail.com', 'contato@carlos.com.br']"
            ]
          },
          "metadata": {
            "tags": []
          },
          "execution_count": 8
        }
      ]
    },
    {
      "cell_type": "code",
      "metadata": {
        "colab": {
          "base_uri": "https://localhost:8080/"
        },
        "id": "WmBNPVovOlLf",
        "outputId": "aeaed5b7-6a5d-4faa-b8fe-b0b9c67604ff"
      },
      "source": [
        "# Utilizando grupos para “quebrar” o e-mail localizado, pegando o usuário e o domínio separados:\n",
        "\n",
        "re.findall(r'([\\w.-]+)@([\\w.-]+)', texto)"
      ],
      "execution_count": null,
      "outputs": [
        {
          "output_type": "execute_result",
          "data": {
            "text/plain": [
              "[('julio_34', 'gmail.com'),\n",
              " ('le_ti_cia', 'hotmail.com'),\n",
              " ('contato', 'carlos.com.br')]"
            ]
          },
          "metadata": {
            "tags": []
          },
          "execution_count": 9
        }
      ]
    }
  ]
}