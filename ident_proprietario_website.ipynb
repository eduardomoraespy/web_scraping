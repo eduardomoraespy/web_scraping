{
  "nbformat": 4,
  "nbformat_minor": 0,
  "metadata": {
    "colab": {
      "name": "ident_proprietario_website.ipynb",
      "provenance": [],
      "authorship_tag": "ABX9TyOe2hKD2vO7Ythzx81ByP7d",
      "include_colab_link": true
    },
    "kernelspec": {
      "name": "python3",
      "display_name": "Python 3"
    },
    "language_info": {
      "name": "python"
    }
  },
  "cells": [
    {
      "cell_type": "markdown",
      "metadata": {
        "id": "view-in-github",
        "colab_type": "text"
      },
      "source": [
        "<a href=\"https://colab.research.google.com/github/eduardomoraespy/web_scraping/blob/main/ident_proprietario_website.ipynb\" target=\"_parent\"><img src=\"https://colab.research.google.com/assets/colab-badge.svg\" alt=\"Open In Colab\"/></a>"
      ]
    },
    {
      "cell_type": "markdown",
      "metadata": {
        "id": "ta6dMJ_H4rh9"
      },
      "source": [
        "## Identificando proprietário de Website com a biblioteca <b>python-whois<b>"
      ]
    },
    {
      "cell_type": "markdown",
      "metadata": {
        "id": "He3UQE9uAbeU"
      },
      "source": [
        "<p>\n",
        "Informações como e-mail, servidor de hospedagem, local de origem, data de compra do domínio, expiração de domínio etc pode ser obtido atraves dessa pesquisa\n",
        "</p>"
      ]
    },
    {
      "cell_type": "code",
      "metadata": {
        "id": "gmj4PlrL4qMM"
      },
      "source": [
        "#!pip install python-whois"
      ],
      "execution_count": null,
      "outputs": []
    },
    {
      "cell_type": "code",
      "metadata": {
        "id": "pz0rv1Cq5N1x"
      },
      "source": [
        "import whois"
      ],
      "execution_count": 23,
      "outputs": []
    },
    {
      "cell_type": "code",
      "metadata": {
        "id": "f5BcWxOQ5cOE",
        "colab": {
          "base_uri": "https://localhost:8080/"
        },
        "outputId": "d8cd6992-5bf2-4e4b-9fe7-3dba99f01c4b"
      },
      "source": [
        "whois.whois('youtube.com')"
      ],
      "execution_count": 25,
      "outputs": [
        {
          "output_type": "execute_result",
          "data": {
            "text/plain": [
              "{'address': None,\n",
              " 'city': None,\n",
              " 'country': 'US',\n",
              " 'creation_date': [datetime.datetime(2005, 2, 15, 5, 13, 12),\n",
              "  datetime.datetime(2005, 2, 14, 21, 13, 12)],\n",
              " 'dnssec': 'unsigned',\n",
              " 'domain_name': ['YOUTUBE.COM', 'youtube.com'],\n",
              " 'emails': ['abusecomplaints@markmonitor.com', 'whoisrequest@markmonitor.com'],\n",
              " 'expiration_date': [datetime.datetime(2022, 2, 15, 5, 13, 12),\n",
              "  datetime.datetime(2022, 2, 14, 0, 0)],\n",
              " 'name': None,\n",
              " 'name_servers': ['NS1.GOOGLE.COM',\n",
              "  'NS2.GOOGLE.COM',\n",
              "  'NS3.GOOGLE.COM',\n",
              "  'NS4.GOOGLE.COM',\n",
              "  'ns4.google.com',\n",
              "  'ns3.google.com',\n",
              "  'ns1.google.com',\n",
              "  'ns2.google.com'],\n",
              " 'org': 'Google LLC',\n",
              " 'referral_url': None,\n",
              " 'registrar': 'MarkMonitor, Inc.',\n",
              " 'state': 'CA',\n",
              " 'status': ['clientDeleteProhibited https://icann.org/epp#clientDeleteProhibited',\n",
              "  'clientTransferProhibited https://icann.org/epp#clientTransferProhibited',\n",
              "  'clientUpdateProhibited https://icann.org/epp#clientUpdateProhibited',\n",
              "  'serverDeleteProhibited https://icann.org/epp#serverDeleteProhibited',\n",
              "  'serverTransferProhibited https://icann.org/epp#serverTransferProhibited',\n",
              "  'serverUpdateProhibited https://icann.org/epp#serverUpdateProhibited',\n",
              "  'clientUpdateProhibited (https://www.icann.org/epp#clientUpdateProhibited)',\n",
              "  'clientTransferProhibited (https://www.icann.org/epp#clientTransferProhibited)',\n",
              "  'clientDeleteProhibited (https://www.icann.org/epp#clientDeleteProhibited)',\n",
              "  'serverUpdateProhibited (https://www.icann.org/epp#serverUpdateProhibited)',\n",
              "  'serverTransferProhibited (https://www.icann.org/epp#serverTransferProhibited)',\n",
              "  'serverDeleteProhibited (https://www.icann.org/epp#serverDeleteProhibited)'],\n",
              " 'updated_date': [datetime.datetime(2021, 1, 14, 10, 36, 28),\n",
              "  datetime.datetime(2021, 1, 14, 2, 36, 28)],\n",
              " 'whois_server': 'whois.markmonitor.com',\n",
              " 'zipcode': None}"
            ]
          },
          "metadata": {
            "tags": []
          },
          "execution_count": 25
        }
      ]
    }
  ]
}