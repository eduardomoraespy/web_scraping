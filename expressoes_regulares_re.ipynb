{
  "nbformat": 4,
  "nbformat_minor": 0,
  "metadata": {
    "colab": {
      "name": "expressoes_regulares_re.ipynb",
      "provenance": [],
      "authorship_tag": "ABX9TyNidyg50d2kYNUPLEkL0lSB"
    },
    "kernelspec": {
      "name": "python3",
      "display_name": "Python 3"
    },
    "language_info": {
      "name": "python"
    }
  },
  "cells": [
    {
      "cell_type": "markdown",
      "metadata": {
        "id": "_gBon55fHRyT"
      },
      "source": [
        "## Buscando por expressões regulares com o módulo <b>re</b>"
      ]
    },
    {
      "cell_type": "code",
      "metadata": {
        "id": "-_Kah7HcHRMM"
      },
      "source": [
        "import re\n",
        "\n",
        "#dir(re)"
      ],
      "execution_count": 3,
      "outputs": []
    },
    {
      "cell_type": "code",
      "metadata": {
        "colab": {
          "base_uri": "https://localhost:8080/"
        },
        "id": "rnDDRwRCHx3_",
        "outputId": "16e8da51-8041-4ae4-93cb-1b5310168fcf"
      },
      "source": [
        "# Função para busca\n",
        "def buscar(p, t):\n",
        "  # O search so pega a primeira ocorrência\n",
        "  # O findall retorna todas as ocorrências\n",
        "  resultado = (re.search(p, t, re.DOTALL))\n",
        "  return resultado\n",
        "\n",
        "# Definir o texto\n",
        "texto = 'Nome: Marcos Paulo Costa, telefone: (32) 98482-0000,idade: 23'\n",
        "\n",
        "# o padrão que será buscado\n",
        "padrao = 'idade'\n",
        "\n",
        "\n",
        "# Foi encontrado a palavra e a posição onde começa e termina\n",
        "buscar(padrao, texto)"
      ],
      "execution_count": 4,
      "outputs": [
        {
          "output_type": "execute_result",
          "data": {
            "text/plain": [
              "<re.Match object; span=(52, 57), match='idade'>"
            ]
          },
          "metadata": {
            "tags": []
          },
          "execution_count": 4
        }
      ]
    },
    {
      "cell_type": "code",
      "metadata": {
        "id": "cgoLVmr8zWqj"
      },
      "source": [
        "# Imprimindo o conteúdo encontrado\n",
        "#print(resultado.group())"
      ],
      "execution_count": 5,
      "outputs": []
    },
    {
      "cell_type": "code",
      "metadata": {
        "colab": {
          "base_uri": "https://localhost:8080/"
        },
        "id": "D1UQjCSF0zXV",
        "outputId": "0ec4f24b-bd8a-47cb-adf3-ad65ca29905c"
      },
      "source": [
        "# Verificando se foi encontrado o resultado\n",
        "if buscar(padrao, texto):\n",
        "  print(buscar(padrao, texto),'\\n\\n')\n",
        "else:\n",
        "  print('Resultado não encontrado')\n",
        "\n"
      ],
      "execution_count": 6,
      "outputs": [
        {
          "output_type": "stream",
          "text": [
            "<re.Match object; span=(52, 57), match='idade'> \n",
            "\n",
            "\n"
          ],
          "name": "stdout"
        }
      ]
    },
    {
      "cell_type": "code",
      "metadata": {
        "colab": {
          "base_uri": "https://localhost:8080/"
        },
        "id": "_BQ01RXN6rVx",
        "outputId": "b5219ebd-2842-4bbe-e845-13002482535d"
      },
      "source": [
        "# Flag // com re.DOTALL que foi passado na função é possivel identifcar o \n",
        "# poonto \".\" que foi passado como padrão e no documento e identifcado o \\n\n",
        "buscar('.', '\\nteste caracteres especiais')"
      ],
      "execution_count": 7,
      "outputs": [
        {
          "output_type": "execute_result",
          "data": {
            "text/plain": [
              "<re.Match object; span=(0, 1), match='\\n'>"
            ]
          },
          "metadata": {
            "tags": []
          },
          "execution_count": 7
        }
      ]
    },
    {
      "cell_type": "code",
      "metadata": {
        "colab": {
          "base_uri": "https://localhost:8080/"
        },
        "id": "iJb4oecCCoZs",
        "outputId": "86c7b3fa-dfa5-4417-c0e8-1ef9482cfe64"
      },
      "source": [
        "# Circunflexo “^”: serve para localizar padrão no início do texto\n",
        "\n",
        "buscar('^Está', 'Está aula de python. Está...')"
      ],
      "execution_count": 8,
      "outputs": [
        {
          "output_type": "execute_result",
          "data": {
            "text/plain": [
              "<re.Match object; span=(0, 4), match='Está'>"
            ]
          },
          "metadata": {
            "tags": []
          },
          "execution_count": 8
        }
      ]
    },
    {
      "cell_type": "code",
      "metadata": {
        "colab": {
          "base_uri": "https://localhost:8080/"
        },
        "id": "cDOT3T6uYcAK",
        "outputId": "7abc40bc-d1f6-4b64-d673-65744ff7c686"
      },
      "source": [
        "# Cifrão $: Serve para localizar padrão no fim do texto.\n",
        "buscar('muito$', 'Está aula de python. Está muito')"
      ],
      "execution_count": 9,
      "outputs": [
        {
          "output_type": "execute_result",
          "data": {
            "text/plain": [
              "<re.Match object; span=(26, 31), match='muito'>"
            ]
          },
          "metadata": {
            "tags": []
          },
          "execution_count": 9
        }
      ]
    },
    {
      "cell_type": "code",
      "metadata": {
        "colab": {
          "base_uri": "https://localhost:8080/"
        },
        "id": "2WoFkZ3CZL56",
        "outputId": "45fe7967-9f9e-417e-d35c-7d12197facf2"
      },
      "source": [
        "# Contra-barra '\\' usado para encontrar caracteres especiais.\n",
        "buscar('\\.', \"Está aula de python. Está, muito\")"
      ],
      "execution_count": 10,
      "outputs": [
        {
          "output_type": "execute_result",
          "data": {
            "text/plain": [
              "<re.Match object; span=(19, 20), match='.'>"
            ]
          },
          "metadata": {
            "tags": []
          },
          "execution_count": 10
        }
      ]
    },
    {
      "cell_type": "code",
      "metadata": {
        "colab": {
          "base_uri": "https://localhost:8080/"
        },
        "id": "cuz1EIgXbofn",
        "outputId": "da6016a9-021e-4f59-e306-d2c4b8cc639f"
      },
      "source": [
        "# Colchetes usado para localizar uma sequência\n",
        "buscar('[hon]', \"Está aula de python. Está, muito\")\n",
        "\n"
      ],
      "execution_count": 11,
      "outputs": [
        {
          "output_type": "execute_result",
          "data": {
            "text/plain": [
              "<re.Match object; span=(16, 17), match='h'>"
            ]
          },
          "metadata": {
            "tags": []
          },
          "execution_count": 11
        }
      ]
    },
    {
      "cell_type": "code",
      "metadata": {
        "colab": {
          "base_uri": "https://localhost:8080/"
        },
        "id": "smhY5hL1dTmW",
        "outputId": "46620e96-8e47-46a1-f2d0-015426d4a613"
      },
      "source": [
        "# Localizando todas as ocorrências com o findall\n",
        "\n",
        "texto = 'Está aula de python. Está, muito'\n",
        "\n",
        "padrao = '[a-z]'\n",
        "print(re.findall(padrao, texto), end=' ')"
      ],
      "execution_count": 12,
      "outputs": [
        {
          "output_type": "stream",
          "text": [
            "['s', 't', 'a', 'u', 'l', 'a', 'd', 'e', 'p', 'y', 't', 'h', 'o', 'n', 's', 't', 'm', 'u', 'i', 't', 'o'] "
          ],
          "name": "stdout"
        }
      ]
    },
    {
      "cell_type": "code",
      "metadata": {
        "colab": {
          "base_uri": "https://localhost:8080/"
        },
        "id": "dZ7x9sB9eB1y",
        "outputId": "b820fb5f-6e2f-4ade-b92a-c4d5ae2a11c8"
      },
      "source": [
        "# Asterisco *: retorna zero ou mais ocorrências da expressão anterior. Quando for encontrado nenhuma ocorrência irá retornar vazio.\n",
        "\n",
        "\n",
        "texto = 'Está aula de python. Está, muito'\n",
        "\n",
        "padrao = 'a*'\n",
        "print(re.findall(padrao, texto), end=' ')"
      ],
      "execution_count": 13,
      "outputs": [
        {
          "output_type": "stream",
          "text": [
            "['', '', '', '', '', 'a', '', '', 'a', '', '', '', '', '', '', '', '', '', '', '', '', '', '', '', '', '', '', '', '', '', '', '', ''] "
          ],
          "name": "stdout"
        }
      ]
    },
    {
      "cell_type": "code",
      "metadata": {
        "colab": {
          "base_uri": "https://localhost:8080/"
        },
        "id": "Gv3bJTMyfWo2",
        "outputId": "b37add0c-1ad5-498e-f008-a54d9f274c92"
      },
      "source": [
        "# Mais ‘+’: retorna uma ou mais ocorrências da expressão anterior.\n",
        "\n",
        "texto = 'Está aula de python. Está, muito'\n",
        "\n",
        "padrao = 'a+'\n",
        "re.findall(padrao, texto)"
      ],
      "execution_count": 14,
      "outputs": [
        {
          "output_type": "execute_result",
          "data": {
            "text/plain": [
              "['a', 'a']"
            ]
          },
          "metadata": {
            "tags": []
          },
          "execution_count": 14
        }
      ]
    },
    {
      "cell_type": "code",
      "metadata": {
        "colab": {
          "base_uri": "https://localhost:8080/"
        },
        "id": "gkVPP9FigWNj",
        "outputId": "93298434-5d51-46c5-efdc-f7cc51a6a8cb"
      },
      "source": [
        "# \\d encontra numero em uma sentença\n",
        "\n",
        "texto = 'Está aula de python. Está, muito 4 3 2 5 d 2'\n",
        "\n",
        "padrao = '\\d'\n",
        "re.findall(padrao, texto)"
      ],
      "execution_count": 15,
      "outputs": [
        {
          "output_type": "execute_result",
          "data": {
            "text/plain": [
              "['4', '3', '2', '5', '2']"
            ]
          },
          "metadata": {
            "tags": []
          },
          "execution_count": 15
        }
      ]
    },
    {
      "cell_type": "code",
      "metadata": {
        "colab": {
          "base_uri": "https://localhost:8080/"
        },
        "id": "4e2-coJenUkH",
        "outputId": "f8bb88cc-8c71-499f-a7ca-648affcf0dd9"
      },
      "source": [
        "# \\D retorna todos os caracteres que não são números\n",
        "\n",
        "texto = 'Está aula de python. Está, muito 4 3 2 5 d 2'\n",
        "\n",
        "padrao = '\\D'\n",
        "print(re.findall(padrao, texto), end=' ')"
      ],
      "execution_count": 16,
      "outputs": [
        {
          "output_type": "stream",
          "text": [
            "['E', 's', 't', 'á', ' ', 'a', 'u', 'l', 'a', ' ', 'd', 'e', ' ', 'p', 'y', 't', 'h', 'o', 'n', '.', ' ', 'E', 's', 't', 'á', ',', ' ', 'm', 'u', 'i', 't', 'o', ' ', ' ', ' ', ' ', ' ', 'd', ' '] "
          ],
          "name": "stdout"
        }
      ]
    },
    {
      "cell_type": "code",
      "metadata": {
        "colab": {
          "base_uri": "https://localhost:8080/"
        },
        "id": "l3P_JW6Fnxes",
        "outputId": "c803a575-8f84-484f-bdf2-9f88205d2e49"
      },
      "source": [
        "# \\s retorna todo caractere de espaçamento\n",
        "\n",
        "texto = 'Está aula de python. Está, muito 4 3 2 5 d 2'\n",
        "\n",
        "padrao = '\\s'\n",
        "re.findall(padrao, texto)"
      ],
      "execution_count": 17,
      "outputs": [
        {
          "output_type": "execute_result",
          "data": {
            "text/plain": [
              "[' ', ' ', ' ', ' ', ' ', ' ', ' ', ' ', ' ', ' ', ' ']"
            ]
          },
          "metadata": {
            "tags": []
          },
          "execution_count": 17
        }
      ]
    },
    {
      "cell_type": "code",
      "metadata": {
        "colab": {
          "base_uri": "https://localhost:8080/"
        },
        "id": "zf2glL_TqN0r",
        "outputId": "a9db5dc9-ab78-4fff-d86f-686eff1dfd49"
      },
      "source": [
        "# \\S retona qualquer caractere que não seja de espaçamento\n",
        "\n",
        "texto = 'Está aula de python. Está, muito 4 3 2 5 d 2'\n",
        "\n",
        "padrao = '\\S'\n",
        "print(re.findall(padrao, texto), end=' ')"
      ],
      "execution_count": 18,
      "outputs": [
        {
          "output_type": "stream",
          "text": [
            "['E', 's', 't', 'á', 'a', 'u', 'l', 'a', 'd', 'e', 'p', 'y', 't', 'h', 'o', 'n', '.', 'E', 's', 't', 'á', ',', 'm', 'u', 'i', 't', 'o', '4', '3', '2', '5', 'd', '2'] "
          ],
          "name": "stdout"
        }
      ]
    },
    {
      "cell_type": "code",
      "metadata": {
        "colab": {
          "base_uri": "https://localhost:8080/"
        },
        "id": "SJqfoegzrH87",
        "outputId": "8c4ca836-978a-4679-edd7-fb3dddb67271"
      },
      "source": [
        "# chaves {} N de ocorrências\n",
        "\n",
        "texto = 'Está aula de python. Está, muito 42 3434 2 5333 d 2'\n",
        "\n",
        "padrao = '\\d{4}'\n",
        "print(re.findall(padrao, texto), end=' ')"
      ],
      "execution_count": 19,
      "outputs": [
        {
          "output_type": "stream",
          "text": [
            "['3434', '5333'] "
          ],
          "name": "stdout"
        }
      ]
    },
    {
      "cell_type": "code",
      "metadata": {
        "colab": {
          "base_uri": "https://localhost:8080/"
        },
        "id": "pL3t6V-Qt1KR",
        "outputId": "e5212388-4697-48f2-8ce7-517816d6c63c"
      },
      "source": [
        "# Barra vertical ou pipe “|”: ‘Ou’ lógico. Quando se quer encontrar mais de uma expressão\n",
        "\n",
        "texto = 'Está aula de python. Está, muito 42 3434 2 5333 d 2'\n",
        "\n",
        "padrao = '(\\d) | (a)' # quando se usa parenteses se cria grupos\n",
        "print(re.findall(padrao, texto), end=' ')"
      ],
      "execution_count": 20,
      "outputs": [
        {
          "output_type": "stream",
          "text": [
            "[('', 'a'), ('2', ''), ('4', ''), ('2', ''), ('3', '')] "
          ],
          "name": "stdout"
        }
      ]
    },
    {
      "cell_type": "code",
      "metadata": {
        "colab": {
          "base_uri": "https://localhost:8080/"
        },
        "id": "iA97Sw1biczr",
        "outputId": "7cac1204-cb8f-4389-b4c2-d5f941a3d81e"
      },
      "source": [
        "# Localizando várias palavras\n",
        "\n",
        "texto = '''\n",
        "Ontem foi domingo,\n",
        "Eu fui passear.\n",
        "Hoje é segunda-feira,\n",
        "Eu vou estudar...\n",
        "Amanhã é terça,\n",
        "Eu vou desenhar.\n",
        "E na quarta-feira?\n",
        "Eu posso pintar!\n",
        "E na quinta-feira?\n",
        "Aprendo a cantar.\n",
        "Para sexta-feira,\n",
        "Eu poder brincar.\n",
        "Sábado não tem aula,\n",
        "Continuo a brincar...\n",
        "Os dias da semana,\n",
        "Eu já sei contar!\n",
        "\n",
        "    Um modelo de vagão, aí é só completar os demais dias.\n",
        "'''\n",
        "# padrao dias da semana seguido por -feira\n",
        "padrao = re.compile(r'(segunda|terça|quarta|quinta|sexta)-feira')\n",
        "\n",
        "re.findall(padrao, texto)"
      ],
      "execution_count": 27,
      "outputs": [
        {
          "output_type": "execute_result",
          "data": {
            "text/plain": [
              "['segunda', 'quarta', 'quinta', 'sexta']"
            ]
          },
          "metadata": {
            "tags": []
          },
          "execution_count": 27
        }
      ]
    },
    {
      "cell_type": "code",
      "metadata": {
        "colab": {
          "base_uri": "https://localhost:8080/"
        },
        "id": "YiCAXl8EmUx9",
        "outputId": "5fbee6bb-52b7-49c7-90f1-0b89e087f73d"
      },
      "source": [
        "# Usando flag ignoreCase\n",
        "\n",
        "texto = '''Ana adora ouvir chiclete com Banana, gosta de bananada e também\n",
        "banana, ele é irmá da Mariana.'''\n",
        "\n",
        "padrao = re.compile(r'ana', re.I)\n",
        "\n",
        "re.findall(padrao, texto)"
      ],
      "execution_count": 29,
      "outputs": [
        {
          "output_type": "execute_result",
          "data": {
            "text/plain": [
              "['Ana', 'ana', 'ana', 'ana', 'ana']"
            ]
          },
          "metadata": {
            "tags": []
          },
          "execution_count": 29
        }
      ]
    },
    {
      "cell_type": "code",
      "metadata": {
        "colab": {
          "base_uri": "https://localhost:8080/"
        },
        "id": "SorbZwgin03r",
        "outputId": "25dd55c2-44c3-4f1c-c183-236248a50e0f"
      },
      "source": [
        "# Localizando qualquer caractere que no texto que termina com ato.\n",
        "\n",
        "texto = '''Eu tenho um gato que corre de rato,\n",
        "'foge para o mato, ai eu pego o sapato e bato ele no ato.'''\n",
        "\n",
        "padrao = re.compile(r'.ato')\n",
        "\n",
        "re.findall(padrao, texto)"
      ],
      "execution_count": 34,
      "outputs": [
        {
          "output_type": "execute_result",
          "data": {
            "text/plain": [
              "['gato', 'rato', 'mato', 'pato', 'bato', ' ato']"
            ]
          },
          "metadata": {
            "tags": []
          },
          "execution_count": 34
        }
      ]
    },
    {
      "cell_type": "code",
      "metadata": {
        "colab": {
          "base_uri": "https://localhost:8080/"
        },
        "id": "ZwfC-4JIu8zs",
        "outputId": "8871e76d-fbee-4048-95f6-8c89e285c407"
      },
      "source": [
        "# Função match()\n",
        "\n",
        "texto = 'Está aula de python. Está, muito...'\n",
        "\n",
        "padrao = re.compile('Está')\n",
        "\n",
        "resultado = re.match(padrao, texto)\n",
        "\n",
        "# Verificando se achou o padrão\n",
        "if resultado:\n",
        "  print(resultado.group())\n",
        "else:\n",
        "  print('Nenhum registro encontrado.')"
      ],
      "execution_count": 37,
      "outputs": [
        {
          "output_type": "stream",
          "text": [
            "Nenhum registro encontrado.\n"
          ],
          "name": "stdout"
        }
      ]
    }
  ]
}