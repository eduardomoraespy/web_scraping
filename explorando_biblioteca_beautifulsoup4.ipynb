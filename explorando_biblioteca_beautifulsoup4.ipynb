{
  "nbformat": 4,
  "nbformat_minor": 0,
  "metadata": {
    "colab": {
      "name": "explorando_biblioteca_beautifulsoup4.ipynb",
      "provenance": [],
      "authorship_tag": "ABX9TyPqnqHXZTF61a4tq4T3FBWu"
    },
    "kernelspec": {
      "name": "python3",
      "display_name": "Python 3"
    },
    "language_info": {
      "name": "python"
    }
  },
  "cells": [
    {
      "cell_type": "markdown",
      "metadata": {
        "id": "Q4lxS1of6zZT"
      },
      "source": [
        "# Biblioteca usada para encontrar informações em uma página HTML ou XML"
      ]
    },
    {
      "cell_type": "code",
      "metadata": {
        "id": "7hBOZu5e7Joy"
      },
      "source": [
        "#!pip install beautifulsoup4"
      ],
      "execution_count": 66,
      "outputs": []
    },
    {
      "cell_type": "code",
      "metadata": {
        "id": "EbK5uQUL8oXh"
      },
      "source": [
        "from bs4 import BeautifulSoup\n",
        "from urllib.request import urlopen"
      ],
      "execution_count": 67,
      "outputs": []
    },
    {
      "cell_type": "code",
      "metadata": {
        "id": "ggTwQE4z--k8"
      },
      "source": [
        "# Abrindo arquivo html\n",
        "html = urlopen('https://research.google.com')"
      ],
      "execution_count": 68,
      "outputs": []
    },
    {
      "cell_type": "code",
      "metadata": {
        "id": "UtIdcL7CDO_f"
      },
      "source": [
        "bsObject = BeautifulSoup(html.read(), 'html.parser')"
      ],
      "execution_count": 69,
      "outputs": []
    },
    {
      "cell_type": "code",
      "metadata": {
        "colab": {
          "base_uri": "https://localhost:8080/"
        },
        "id": "_xZwdLCKac7B",
        "outputId": "3fad5824-f059-4a52-8383-eb4a5040238d"
      },
      "source": [
        "# visualizando h1\n",
        "print(bsObject.h1)"
      ],
      "execution_count": 70,
      "outputs": [
        {
          "output_type": "stream",
          "text": [
            "<h1 class=\"content__title \">\n",
            "            Advancing the state of the art\n",
            "          </h1>\n"
          ],
          "name": "stdout"
        }
      ]
    },
    {
      "cell_type": "code",
      "metadata": {
        "colab": {
          "base_uri": "https://localhost:8080/"
        },
        "id": "wBzoYozua-FM",
        "outputId": "692e3c88-7be7-487d-e209-69d530f8182e"
      },
      "source": [
        "print(bsObject.title)"
      ],
      "execution_count": 71,
      "outputs": [
        {
          "output_type": "stream",
          "text": [
            "<title>Google Research</title>\n"
          ],
          "name": "stdout"
        }
      ]
    },
    {
      "cell_type": "code",
      "metadata": {
        "colab": {
          "base_uri": "https://localhost:8080/"
        },
        "id": "vV2RTWDGc7uH",
        "outputId": "98fd95d1-de9c-43a6-b223-92a93f2618fb"
      },
      "source": [
        "# Todos os h1s da página com find_all()\n",
        "print(bsObject.find_all('h1'))"
      ],
      "execution_count": 72,
      "outputs": [
        {
          "output_type": "stream",
          "text": [
            "[<h1 class=\"content__title \">\n",
            "            Advancing the state of the art\n",
            "          </h1>]\n"
          ],
          "name": "stdout"
        }
      ]
    },
    {
      "cell_type": "code",
      "metadata": {
        "colab": {
          "base_uri": "https://localhost:8080/"
        },
        "id": "OZN7Fwdw6gL4",
        "outputId": "89403a7e-08ca-4c31-e1f7-0d74ec983afe"
      },
      "source": [
        "# Todos os links da página\n",
        "for link in bsObject.find_all('a'):\n",
        "  print(link)"
      ],
      "execution_count": 73,
      "outputs": [
        {
          "output_type": "stream",
          "text": [
            "<a aria-controls=\"header__nav\" aria-expanded=\"false\" aria-label=\"Open the navigation drawer\" class=\"header__hamburger\" href=\"\" ng-click=\"headerCtrl.open()\">\n",
            "<div class=\"header__hamburger-burger\"></div>\n",
            "</a>\n",
            "<a class=\"header__lockup\" href=\"/\">\n",
            "<span class=\"off-screen\">Google Research</span>\n",
            "<div class=\"header__logo\">\n",
            "<img alt=\"Google Research Logo\" src=\"/static/images/google_research_lockup-121987c06c0aa0ab26ca8716a0f2e7945d1cbf82077bbab9f914dac0a0bf099f.svg\"/>\n",
            "</div>\n",
            "</a>\n",
            "<a class=\"header__lockup\" href=\"/\">\n",
            "<span class=\"off-screen\">Google Research</span>\n",
            "<div class=\"header__logo\">\n",
            "<img alt=\"Google Research Logo\" src=\"/static/images/google_research_lockup-121987c06c0aa0ab26ca8716a0f2e7945d1cbf82077bbab9f914dac0a0bf099f.svg\"/>\n",
            "</div>\n",
            "</a>\n",
            "<a class=\"header__link\" href=\"/philosophy/\">\n",
            "                Philosophy\n",
            "              </a>\n",
            "<a class=\"header__link\" href=\"/research-areas/\">\n",
            "                Research Areas\n",
            "              </a>\n",
            "<a class=\"header__link\" href=\"/pubs/\">\n",
            "                Publications\n",
            "              </a>\n",
            "<a class=\"header__link\" href=\"/people/\">\n",
            "                People\n",
            "              </a>\n",
            "<a class=\"header__link\" href=\"/tools/\">\n",
            "                Tools &amp; Downloads\n",
            "              </a>\n",
            "<a class=\"header__link\" href=\"/outreach/\">\n",
            "                Outreach\n",
            "              </a>\n",
            "<a class=\"header__link\" href=\"/careers/\">\n",
            "                Careers\n",
            "              </a>\n",
            "<a class=\"header__link\" href=\"https://ai.googleblog.com\" target=\"_blank\">\n",
            "            Blog\n",
            "          </a>\n",
            "<a class=\"button \" href=\"/philosophy/\">\n",
            "\n",
            "\n",
            "  See our research philosophy\n",
            "</a>\n",
            "<a href=\"https://ai.googleblog.com/\">Google AI blog</a>\n",
            "<a class=\"card__link\" href=\"https://rdcu.be/ceL50\" target=\"_blank\" title=\"Nature Physics: Quantum approximate optimization of non-planar graph problems on a planar superconducting processor\"><span class=\"hidden-text\">Nature Physics: Quantum approximate optimization of non-planar graph problems on a planar superconducting processor</span></a>\n",
            "<a class=\"card__link\" href=\"https://ai.googleblog.com/2021/03/massively-parallel-graph-computation.html\" target=\"_blank\" title=\"Massively Parallel Graph Computation: From Theory to Practice\"><span class=\"hidden-text\">Massively Parallel Graph Computation: From Theory to Practice</span></a>\n",
            "<a href=\"/research-areas/algorithms-and-theory/\">Algorithms and Theory</a>\n",
            "<a class=\"card__link\" href=\"https://ai.googleblog.com/2021/03/leaf-learnable-frontend-for-audio.html\" target=\"_blank\" title=\"LEAF: A Learnable Frontend for Audio Classification\"><span class=\"hidden-text\">LEAF: A Learnable Frontend for Audio Classification</span></a>\n",
            "<a href=\"/research-areas/machine-perception/\">Machine Perception</a>\n",
            "<a class=\"card__link\" href=\"https://ai.googleblog.com/2021/02/lyra-new-very-low-bitrate-codec-for.html\" target=\"_blank\" title=\"Lyra: A New Very Low-Bitrate Codec for Speech Compression\"><span class=\"hidden-text\">Lyra: A New Very Low-Bitrate Codec for Speech Compression</span></a>\n",
            "<a href=\"/research-areas/speech-processing/\">Speech Processing</a>\n",
            "<a class=\"card__link\" href=\"https://ai.googleblog.com/2021/02/introducing-model-search-open-source.html\" target=\"_blank\" title=\"Introducing Model Search: An Open Source Platform for Finding Optimal ML Models\"><span class=\"hidden-text\">Introducing Model Search: An Open Source Platform for Finding Optimal ML Models</span></a>\n",
            "<a href=\"/research-areas/machine-intelligence/\">Machine Intelligence</a>\n",
            "<a class=\"card__link\" href=\"https://ai.googleblog.com/2021/02/machine-learning-for-computer.html\" target=\"_blank\" title=\"Machine Learning for Computer Architecture\"><span class=\"hidden-text\">Machine Learning for Computer Architecture</span></a>\n",
            "<a href=\"/research-areas/hardware-and-architecture/\">Hardware and Architecture</a>\n",
            "<a class=\"card__link\" href=\"https://ai.googleblog.com/2021/03/contactless-sleep-sensing-in-nest-hub.html\" target=\"_blank\" title=\"Contactless Sleep Sensing in Nest Hub\"><span class=\"hidden-text\">Contactless Sleep Sensing in Nest Hub</span></a>\n",
            "<a href=\"/research-areas/health-bioscience/\">Health and Bioscience</a>\n",
            "<a class=\"button \" href=\"/research-areas/\">\n",
            "\n",
            "\n",
            "  See our research areas\n",
            "</a>\n",
            "<a class=\"card__link\" href=\"/pubs/pub50118/\" title=\"Confidence Estimation for Attention-based Sequence-to-sequence Models for Speech Recognition\"><span class=\"hidden-text\">Confidence Estimation for Attention-based Sequence-to-sequence Models for Speech Recognition</span></a>\n",
            "<a class=\"icon icon--info card__link-info\" ng-click=\"AbstractPreviewCtrl.open($event)\"></a>\n",
            "<a class=\"icon icon--close card__link-abstract-close\" ng-click=\"AbstractPreviewCtrl.close($event)\"></a>\n",
            "<a href=\"/pubs/pub50118/\">View details</a>\n",
            "<a class=\"card__title\" href=\"/pubs/pub50118/\" title=\"Confidence Estimation for Attention-based Sequence-to-sequence Models for Speech Recognition\">Confidence Estimation for Attention-based Sequence-to-sequence Models for Speech Recognition</a>\n",
            "<a href=\"/people/105680/\" title=\"Yu Zhang\">Yu Zhang</a>\n",
            "<a href=\"/people/BoLi/\" title=\"Bo Li\">Bo Li</a>\n",
            "<a href=\"/people/106380/\" title=\"Yanzhang (Ryan) He\">Yanzhang (Ryan) He</a>\n",
            "<a href=\"/people/106378/\" title=\"Liangliang Cao\">Liangliang Cao</a>\n",
            "<a href=\"/people/TrevorStrohman/\" title=\"Trevor Deatrick Strohman\">Trevor Deatrick Strohman</a>\n",
            "<a class=\"card__link\" href=\"/pubs/pub50198/\" title=\"Sleep-wake Detection With a Contactless, Bedside Radar Sleep Sensing System\"><span class=\"hidden-text\">Sleep-wake Detection With a Contactless, Bedside Radar Sleep Sensing System</span></a>\n",
            "<a class=\"icon icon--info card__link-info\" ng-click=\"AbstractPreviewCtrl.open($event)\"></a>\n",
            "<a class=\"icon icon--close card__link-abstract-close\" ng-click=\"AbstractPreviewCtrl.close($event)\"></a>\n",
            "<a href=\"/pubs/pub50198/\">View details</a>\n",
            "<a class=\"card__title\" href=\"/pubs/pub50198/\" title=\"Sleep-wake Detection With a Contactless, Bedside Radar Sleep Sensing System\">Sleep-wake Detection With a Contactless, Bedside Radar Sleep Sensing System</a>\n",
            "<a class=\"card__link\" href=\"/pubs/pub50197/\" title=\"TapNet: The Design, Training, Implementation, and Applications of a Multi-Task Learning CNN for Off-Screen Mobile Input\"><span class=\"hidden-text\">TapNet: The Design, Training, Implementation, and Applications of a Multi-Task Learning CNN for Off-Screen Mobile Input</span></a>\n",
            "<a class=\"icon icon--info card__link-info\" ng-click=\"AbstractPreviewCtrl.open($event)\"></a>\n",
            "<a class=\"icon icon--close card__link-abstract-close\" ng-click=\"AbstractPreviewCtrl.close($event)\"></a>\n",
            "<a href=\"/pubs/pub50197/\">View details</a>\n",
            "<a class=\"card__title\" href=\"/pubs/pub50197/\" title=\"TapNet: The Design, Training, Implementation, and Applications of a Multi-Task Learning CNN for Off-Screen Mobile Input\">TapNet: The Design, Training, Implementation, and Applications of a Multi-Task Learning CNN for Off-Screen Mobile Input</a>\n",
            "<a href=\"/people/author38946/\" title=\"Yang Li\">Yang Li</a>\n",
            "<a href=\"/people/author9128/\" title=\"Shumin Zhai\">Shumin Zhai</a>\n",
            "<a class=\"card__link\" href=\"/pubs/pub50194/\" title=\"When MAML Can Adapt Fast and How to Assist When It Cannot\"><span class=\"hidden-text\">When MAML Can Adapt Fast and How to Assist When It Cannot</span></a>\n",
            "<a class=\"icon icon--info card__link-info\" ng-click=\"AbstractPreviewCtrl.open($event)\"></a>\n",
            "<a class=\"icon icon--close card__link-abstract-close\" ng-click=\"AbstractPreviewCtrl.close($event)\"></a>\n",
            "<a href=\"/pubs/pub50194/\">View details</a>\n",
            "<a class=\"card__title\" href=\"/pubs/pub50194/\" title=\"When MAML Can Adapt Fast and How to Assist When It Cannot\">When MAML Can Adapt Fast and How to Assist When It Cannot</a>\n",
            "<a href=\"/people/106931/\" title=\"Fei Sha\">Fei Sha</a>\n",
            "<a class=\"card__link\" href=\"/pubs/pub50191/\" title=\"Projected Distribution Loss for Image Enhancement\"><span class=\"hidden-text\">Projected Distribution Loss for Image Enhancement</span></a>\n",
            "<a class=\"icon icon--info card__link-info\" ng-click=\"AbstractPreviewCtrl.open($event)\"></a>\n",
            "<a class=\"icon icon--close card__link-abstract-close\" ng-click=\"AbstractPreviewCtrl.close($event)\"></a>\n",
            "<a href=\"/pubs/pub50191/\">View details</a>\n",
            "<a class=\"card__title\" href=\"/pubs/pub50191/\" title=\"Projected Distribution Loss for Image Enhancement\">Projected Distribution Loss for Image Enhancement</a>\n",
            "<a href=\"/people/105490/\" title=\"Hossein Talebi\">Hossein Talebi</a>\n",
            "<a href=\"/people/PeymanMilanfar/\" title=\"Peyman Milanfar\">Peyman Milanfar</a>\n",
            "<a class=\"card__link\" href=\"/pubs/pub49920/\" title=\"Onboarding Materials as Cross-functional Boundary Objects for Developing AI Assistants\"><span class=\"hidden-text\">Onboarding Materials as Cross-functional Boundary Objects for Developing AI Assistants</span></a>\n",
            "<a class=\"icon icon--info card__link-info\" ng-click=\"AbstractPreviewCtrl.open($event)\"></a>\n",
            "<a class=\"icon icon--close card__link-abstract-close\" ng-click=\"AbstractPreviewCtrl.close($event)\"></a>\n",
            "<a href=\"/pubs/pub49920/\">View details</a>\n",
            "<a class=\"card__title\" href=\"/pubs/pub49920/\" title=\"Onboarding Materials as Cross-functional Boundary Objects for Developing AI Assistants\">Onboarding Materials as Cross-functional Boundary Objects for Developing AI Assistants</a>\n",
            "<a href=\"/people/CarrieJunCai/\" title=\"Carrie Jun Cai\">Carrie Jun Cai</a>\n",
            "<a href=\"/people/106387/\" title=\"Dave Steiner\">Dave Steiner</a>\n",
            "<a href=\"/people/106542/\" title=\"Lauren Wilcox\">Lauren Wilcox</a>\n",
            "<a href=\"/people/SamanthaWinter/\" title=\"Samantha Winter\">Samantha Winter</a>\n",
            "<a class=\"card__link\" href=\"/pubs/pub50177/\" title=\"Hurdles to Progress in Long-form Question Answering\"><span class=\"hidden-text\">Hurdles to Progress in Long-form Question Answering</span></a>\n",
            "<a class=\"icon icon--info card__link-info\" ng-click=\"AbstractPreviewCtrl.open($event)\"></a>\n",
            "<a class=\"icon icon--close card__link-abstract-close\" ng-click=\"AbstractPreviewCtrl.close($event)\"></a>\n",
            "<a href=\"/pubs/pub50177/\">View details</a>\n",
            "<a class=\"card__title\" href=\"/pubs/pub50177/\" title=\"Hurdles to Progress in Long-form Question Answering\">Hurdles to Progress in Long-form Question Answering</a>\n",
            "<a href=\"/people/105555/\" title=\"Aurko Roy\">Aurko Roy</a>\n",
            "<a class=\"card__link\" href=\"/pubs/pub50181/\" title=\"Machine Learning Force Fields\"><span class=\"hidden-text\">Machine Learning Force Fields</span></a>\n",
            "<a class=\"icon icon--info card__link-info\" ng-click=\"AbstractPreviewCtrl.open($event)\"></a>\n",
            "<a class=\"icon icon--close card__link-abstract-close\" ng-click=\"AbstractPreviewCtrl.close($event)\"></a>\n",
            "<a href=\"/pubs/pub50181/\">View details</a>\n",
            "<a class=\"card__title\" href=\"/pubs/pub50181/\" title=\"Machine Learning Force Fields\">Machine Learning Force Fields</a>\n",
            "<a href=\"/people/107313/\" title=\"Klaus-Robert Müller\">Klaus-Robert Müller</a>\n",
            "<a class=\"button \" href=\"/pubs/\">\n",
            "\n",
            "\n",
            "  See our publications\n",
            "</a>\n",
            "<a class=\"button \" href=\"/teams/\">\n",
            "\n",
            "\n",
            "  See our teams\n",
            "</a>\n",
            "<a class=\"button \" href=\"/people/\">\n",
            "\n",
            "\n",
            "  See our people\n",
            "</a>\n",
            "<a class=\"button \" href=\"/careers/\">\n",
            "\n",
            "\n",
            "  Explore opportunities\n",
            "</a>\n",
            "<a class=\"button \" href=\"/outreach/\">\n",
            "\n",
            "\n",
            "  Explore our outreach programs\n",
            "</a>\n",
            "<a aria-label=\"Google\" class=\"footer__logo\" href=\"https://www.google.com\" target=\"_blank\">\n",
            "<img alt=\"Google\" src=\"/static/images/google_lockup_grey-c55a858d36d74fd790953e6d5cbab45ac99bd5bd8c2b764768258ec732ad42ad.svg\"/>\n",
            "</a>\n",
            "<a class=\"footer__link\" href=\"https://policies.google.com/privacy\" target=\"_blank\">Privacy</a>\n",
            "<a class=\"footer__link\" href=\"https://policies.google.com/terms\" target=\"_blank\">Terms</a>\n",
            "<a class=\"footer__link\" href=\"https://about.google/\" target=\"_blank\">About Google</a>\n",
            "<a class=\"footer__link\" href=\"https://about.google/intl/en/products/\" target=\"_blank\">Google Products</a>\n",
            "<a class=\"footer__link footer__link--support\" href=\"\" onclick=\"sendFeedback()\">\n",
            "      Feedback\n",
            "    </a>\n"
          ],
          "name": "stdout"
        }
      ]
    },
    {
      "cell_type": "code",
      "metadata": {
        "colab": {
          "base_uri": "https://localhost:8080/"
        },
        "id": "Wa6195mb-nI8",
        "outputId": "15217cff-b224-4252-9833-459ba0c3088e"
      },
      "source": [
        "# pegar somente os links, sem o conteúdo inteiro da tag <a>\n",
        "for link in bsObject.find_all('a'):\n",
        "  print(link.get('href'))"
      ],
      "execution_count": 74,
      "outputs": [
        {
          "output_type": "stream",
          "text": [
            "\n",
            "/\n",
            "/\n",
            "/philosophy/\n",
            "/research-areas/\n",
            "/pubs/\n",
            "/people/\n",
            "/tools/\n",
            "/outreach/\n",
            "/careers/\n",
            "https://ai.googleblog.com\n",
            "/philosophy/\n",
            "https://ai.googleblog.com/\n",
            "https://rdcu.be/ceL50\n",
            "https://ai.googleblog.com/2021/03/massively-parallel-graph-computation.html\n",
            "/research-areas/algorithms-and-theory/\n",
            "https://ai.googleblog.com/2021/03/leaf-learnable-frontend-for-audio.html\n",
            "/research-areas/machine-perception/\n",
            "https://ai.googleblog.com/2021/02/lyra-new-very-low-bitrate-codec-for.html\n",
            "/research-areas/speech-processing/\n",
            "https://ai.googleblog.com/2021/02/introducing-model-search-open-source.html\n",
            "/research-areas/machine-intelligence/\n",
            "https://ai.googleblog.com/2021/02/machine-learning-for-computer.html\n",
            "/research-areas/hardware-and-architecture/\n",
            "https://ai.googleblog.com/2021/03/contactless-sleep-sensing-in-nest-hub.html\n",
            "/research-areas/health-bioscience/\n",
            "/research-areas/\n",
            "/pubs/pub50118/\n",
            "None\n",
            "None\n",
            "/pubs/pub50118/\n",
            "/pubs/pub50118/\n",
            "/people/105680/\n",
            "/people/BoLi/\n",
            "/people/106380/\n",
            "/people/106378/\n",
            "/people/TrevorStrohman/\n",
            "/pubs/pub50198/\n",
            "None\n",
            "None\n",
            "/pubs/pub50198/\n",
            "/pubs/pub50198/\n",
            "/pubs/pub50197/\n",
            "None\n",
            "None\n",
            "/pubs/pub50197/\n",
            "/pubs/pub50197/\n",
            "/people/author38946/\n",
            "/people/author9128/\n",
            "/pubs/pub50194/\n",
            "None\n",
            "None\n",
            "/pubs/pub50194/\n",
            "/pubs/pub50194/\n",
            "/people/106931/\n",
            "/pubs/pub50191/\n",
            "None\n",
            "None\n",
            "/pubs/pub50191/\n",
            "/pubs/pub50191/\n",
            "/people/105490/\n",
            "/people/PeymanMilanfar/\n",
            "/pubs/pub49920/\n",
            "None\n",
            "None\n",
            "/pubs/pub49920/\n",
            "/pubs/pub49920/\n",
            "/people/CarrieJunCai/\n",
            "/people/106387/\n",
            "/people/106542/\n",
            "/people/SamanthaWinter/\n",
            "/pubs/pub50177/\n",
            "None\n",
            "None\n",
            "/pubs/pub50177/\n",
            "/pubs/pub50177/\n",
            "/people/105555/\n",
            "/pubs/pub50181/\n",
            "None\n",
            "None\n",
            "/pubs/pub50181/\n",
            "/pubs/pub50181/\n",
            "/people/107313/\n",
            "/pubs/\n",
            "/teams/\n",
            "/people/\n",
            "/careers/\n",
            "/outreach/\n",
            "https://www.google.com\n",
            "https://policies.google.com/privacy\n",
            "https://policies.google.com/terms\n",
            "https://about.google/\n",
            "https://about.google/intl/en/products/\n",
            "\n"
          ],
          "name": "stdout"
        }
      ]
    }
  ]
}